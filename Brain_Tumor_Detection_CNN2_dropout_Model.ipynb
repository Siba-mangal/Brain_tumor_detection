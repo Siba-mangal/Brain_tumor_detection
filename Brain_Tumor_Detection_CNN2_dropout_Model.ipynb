{
  "nbformat": 4,
  "nbformat_minor": 0,
  "metadata": {
    "colab": {
      "provenance": [],
      "gpuType": "T4",
      "include_colab_link": true
    },
    "kernelspec": {
      "name": "python3",
      "display_name": "Python 3"
    },
    "language_info": {
      "name": "python"
    },
    "accelerator": "GPU",
    "gpuClass": "standard"
  },
  "cells": [
    {
      "cell_type": "markdown",
      "metadata": {
        "id": "view-in-github",
        "colab_type": "text"
      },
      "source": [
        "<a href=\"https://colab.research.google.com/github/Siba-mangal/Brain_tumor_detection/blob/using-keras/Brain_Tumor_Detection_CNN2_dropout_Model.ipynb\" target=\"_parent\"><img src=\"https://colab.research.google.com/assets/colab-badge.svg\" alt=\"Open In Colab\"/></a>"
      ]
    },
    {
      "cell_type": "code",
      "source": [],
      "metadata": {
        "id": "HXuVWdW2AssU"
      },
      "execution_count": null,
      "outputs": []
    },
    {
      "cell_type": "code",
      "source": [
        "from google.colab import drive\n",
        "drive.mount('/content/drive')"
      ],
      "metadata": {
        "colab": {
          "base_uri": "https://localhost:8080/"
        },
        "id": "LEcDJJVURz7n",
        "outputId": "1c92e403-6765-4961-95c9-012db4f6958f"
      },
      "execution_count": 2,
      "outputs": [
        {
          "output_type": "stream",
          "name": "stdout",
          "text": [
            "Drive already mounted at /content/drive; to attempt to forcibly remount, call drive.mount(\"/content/drive\", force_remount=True).\n"
          ]
        }
      ]
    },
    {
      "cell_type": "code",
      "execution_count": 3,
      "metadata": {
        "id": "uEAmQmJgP959"
      },
      "outputs": [],
      "source": [
        "import tensorflow as tf\n",
        "from tensorflow.keras.layers import Conv2D, Input, ZeroPadding2D, BatchNormalization, Activation, MaxPooling2D, Flatten, Dense,Dropout\n",
        "from tensorflow.keras.models import Model, load_model\n",
        "from tensorflow.keras.callbacks import TensorBoard, ModelCheckpoint\n",
        "from sklearn.model_selection import train_test_split\n",
        "from sklearn.metrics import f1_score\n",
        "from sklearn.utils import shuffle\n",
        "import cv2\n",
        "import imutils\n",
        "import numpy as np\n",
        "import matplotlib.pyplot as plt\n",
        "import time\n",
        "from os import listdir\n",
        "\n",
        "%matplotlib inline"
      ]
    },
    {
      "cell_type": "code",
      "source": [
        "def load_data(dir_list, image_size):\n",
        "    \"\"\"\n",
        "    Read images, resize and normalize them. \n",
        "    Arguments:\n",
        "        dir_list: list of strings representing file directories.\n",
        "    Returns:\n",
        "        X: A numpy array with shape = (#_examples, image_width, image_height, #_channels)\n",
        "        y: A numpy array with shape = (#_examples, 1)\n",
        "    \"\"\"\n",
        "\n",
        "    # load all images in a directory\n",
        "    X = []\n",
        "    y = []\n",
        "    image_width, image_height = image_size\n",
        "    \n",
        "    for directory in dir_list:\n",
        "        for filename in listdir(directory):\n",
        "            # load the image\n",
        "            image = cv2.imread(directory + '/' + filename)\n",
        "            # crop the brain and ignore the unnecessary rest part of the image\n",
        "            # image = crop_brain_contour(image, plot=False)\n",
        "            # resize image\n",
        "            image = cv2.resize(image, dsize=(image_width, image_height), interpolation=cv2.INTER_CUBIC)\n",
        "            # normalize values\n",
        "            image = image / 255.\n",
        "            # convert image to numpy array and append it to X\n",
        "            X.append(image)\n",
        "            # append a value of 1 to the target array if the image\n",
        "            # is in the folder named 'yes', otherwise append 0.\n",
        "            if directory[-3:] == 'yes':\n",
        "                y.append([1])\n",
        "            else:\n",
        "                y.append([0])\n",
        "                \n",
        "    X = np.array(X)\n",
        "    y = np.array(y)\n",
        "    \n",
        "    # Shuffle the data\n",
        "    X, y = shuffle(X, y)\n",
        "    \n",
        "    print(f'Number of examples is: {len(X)}')\n",
        "    print(f'X shape is: {X.shape}')\n",
        "    print(f'y shape is: {y.shape}')\n",
        "\n",
        "    return X, y"
      ],
      "metadata": {
        "id": "S8bC7EvcTFtP"
      },
      "execution_count": 4,
      "outputs": []
    },
    {
      "cell_type": "code",
      "source": [
        "path = '/content/drive/MyDrive/dataset'\n",
        "\n",
        "# augmented data (yes and no) contains both the original and the new generated examples\n",
        "yes = path + '/yes' \n",
        "no = path + '/no'\n",
        "\n",
        "IMG_WIDTH, IMG_HEIGHT = (256, 256)\n",
        "\n",
        "X, y = load_data([yes, no], (IMG_WIDTH, IMG_HEIGHT))"
      ],
      "metadata": {
        "colab": {
          "base_uri": "https://localhost:8080/"
        },
        "id": "79Bg9COATFwL",
        "outputId": "19677644-77d4-4c86-f427-dd17096d7b4f"
      },
      "execution_count": 5,
      "outputs": [
        {
          "output_type": "stream",
          "name": "stdout",
          "text": [
            "Number of examples is: 1464\n",
            "X shape is: (1464, 256, 256, 3)\n",
            "y shape is: (1464, 1)\n"
          ]
        }
      ]
    },
    {
      "cell_type": "code",
      "source": [
        "def split_data(X, y, test_size=0.2):\n",
        "       \n",
        "    X_train, X_test_val, y_train, y_test_val = train_test_split(X, y, test_size=0.25,random_state = 42)\n",
        "    # X_train, X_test_val, y_train, y_test_val = train_test_split(X, y, test_size=0.25)\n",
        "    X_test, X_val, y_test, y_val = train_test_split(X_test_val, y_test_val, test_size=0.25)\n",
        "    \n",
        "    return X_train, y_train, X_val, y_val, X_test, y_test"
      ],
      "metadata": {
        "id": "9OvYD-hxT9GZ"
      },
      "execution_count": 6,
      "outputs": []
    },
    {
      "cell_type": "code",
      "source": [
        "X_train, y_train, X_val, y_val, X_test, y_test = split_data(X, y, test_size=0.25)"
      ],
      "metadata": {
        "id": "aVs0gxJmULOJ"
      },
      "execution_count": 7,
      "outputs": []
    },
    {
      "cell_type": "code",
      "source": [
        "print (\"number of training examples = \" + str(X_train.shape[0]))\n",
        "print (\"number of development examples = \" + str(X_val.shape[0]))\n",
        "print (\"number of test examples = \" + str(X_test.shape[0]))\n",
        "print (\"X_train shape: \" + str(X_train.shape))\n",
        "print (\"Y_train shape: \" + str(y_train.shape))\n",
        "print (\"X_val (dev) shape: \" + str(X_val.shape))\n",
        "print (\"Y_val (dev) shape: \" + str(y_val.shape))\n",
        "print (\"X_test shape: \" + str(X_test.shape))\n",
        "print (\"Y_test shape: \" + str(y_test.shape))"
      ],
      "metadata": {
        "colab": {
          "base_uri": "https://localhost:8080/"
        },
        "id": "SDJ4ohJfUOly",
        "outputId": "4c6ca49b-a25f-425d-e896-0df21adcca36"
      },
      "execution_count": 7,
      "outputs": [
        {
          "output_type": "stream",
          "name": "stdout",
          "text": [
            "number of training examples = 1098\n",
            "number of development examples = 92\n",
            "number of test examples = 274\n",
            "X_train shape: (1098, 256, 256, 3)\n",
            "Y_train shape: (1098, 1)\n",
            "X_val (dev) shape: (92, 256, 256, 3)\n",
            "Y_val (dev) shape: (92, 1)\n",
            "X_test shape: (274, 256, 256, 3)\n",
            "Y_test shape: (274, 1)\n"
          ]
        }
      ]
    },
    {
      "cell_type": "code",
      "source": [
        "# Nicely formatted time string\n",
        "def hms_string(sec_elapsed):\n",
        "    h = int(sec_elapsed / (60 * 60))\n",
        "    m = int((sec_elapsed % (60 * 60)) / 60)\n",
        "    s = sec_elapsed % 60\n",
        "    return f\"{h}:{m}:{round(s,1)}\""
      ],
      "metadata": {
        "id": "GfevMzyxURVH"
      },
      "execution_count": 8,
      "outputs": []
    },
    {
      "cell_type": "code",
      "source": [
        "def compute_f1_score(y_true, prob):\n",
        "    # convert the vector of probabilities to a target vector\n",
        "    y_pred = np.where(prob > 0.5, 1, 0)\n",
        "    \n",
        "    score = f1_score(y_true, y_pred)\n",
        "    \n",
        "    return score"
      ],
      "metadata": {
        "id": "wPoTnIfbUWtC"
      },
      "execution_count": 9,
      "outputs": []
    },
    {
      "cell_type": "code",
      "source": [
        "from keras.layers import Dropout\n",
        "from tensorflow import keras\n",
        "import tensorflow as tf"
      ],
      "metadata": {
        "id": "spsKB9RmzS3v"
      },
      "execution_count": 10,
      "outputs": []
    },
    {
      "cell_type": "markdown",
      "source": [
        "Buid Model"
      ],
      "metadata": {
        "id": "mU0n9DC6Ub-b"
      }
    },
    {
      "cell_type": "code",
      "source": [
        "# def build_model(input_shape):\n",
        "#     \"\"\"\n",
        "#     Arugments:\n",
        "#         input_shape: A tuple representing the shape of the input of the model. shape=(image_width, image_height, #_channels)\n",
        "#     Returns:\n",
        "#         model: A Model object.\n",
        "#     \"\"\"\n",
        "#     # Define the input placeholder as a tensor with shape input_shape. \n",
        "#     X_input = Input(input_shape) # shape=(?, 256, 256, 3)\n",
        "    \n",
        "#     # Zero-Padding: pads the border of X_input with zeroes\n",
        "#     X = ZeroPadding2D((2, 2))(X_input) \n",
        "    \n",
        "#     # CONV -> BN -> RELU Block applied to X\n",
        "#     X = Conv2D(32, (7, 7), strides = (1, 1), name = 'conv0')(X)\n",
        "#     X = BatchNormalization(axis = 3, name = 'bn0')(X)\n",
        "#     X = Activation('relu')(X) # shape=(?, 238, 238, 32)\n",
        "\n",
        "#     # MAXPOOL\n",
        "#     X = MaxPooling2D((4, 4), name='max_pool0')(X) # shape=(?, 59, 59, 32) \n",
        "    \n",
        "    \n",
        "\n",
        "#     X = Conv2D(64, (7, 7), strides = (1, 1), name = 'conv1')(X)\n",
        "#     X = BatchNormalization(axis = 3, name = 'bn1')(X)\n",
        "#     X = Activation('relu')(X) # shape=(?, 238, 238, 32)\n",
        "#     # X = tf.keras.layers.Dropout(rate=0.2)\n",
        "    \n",
        "#     # MAXPOOL\n",
        "#     X = MaxPooling2D((4, 4), name='max_pool1')(X) # shape=(?, 14, 14, 32)\n",
        "\n",
        "#     X = Conv2D(128, (7, 7), strides = (1, 1), name = 'conv2')(X)\n",
        "#     X = BatchNormalization(axis = 3, name = 'bn2')(X)\n",
        "#     X = Activation('relu')(X) # shape=(?, 238, 238, 32)\n",
        "    \n",
        "#     # # MAXPOOL\n",
        "#     X = MaxPooling2D((4, 4), name='max_pool2')(X)\n",
        "#     # X = keras.layers.Dropout(0.30)(X) # changed dropout rate 0.20 to 0.30\n",
        "#     X = keras.layers.Dropout(0.20)(X)\n",
        " \n",
        "#     # FLATTEN X \n",
        "#     X = Flatten()(X) # shape=(?, 6272)\n",
        "#     # FULLYCONNECTED\n",
        "#     X = Dense(1, activation='sigmoid', name='fc')(X) # shape=(?, 1)\n",
        "\n",
        "    \n",
        "#     # Create model. This creates your Keras model instance, you'll use this instance to train/test the model.\n",
        "#     model = Model(inputs = X_input, outputs = X, name='BrainDetectionModel')\n",
        "\n",
        "    \n",
        "#     return model"
      ],
      "metadata": {
        "id": "VVbmntYRUY_-"
      },
      "execution_count": 13,
      "outputs": []
    },
    {
      "cell_type": "code",
      "source": [
        "# def build_model(input_shape):\n",
        "#     # Define the input placeholder as a tensor with shape input_shape. \n",
        "#     X_input = Input(input_shape)\n",
        "#     X = Conv2D(64, (3, 3), strides = (1, 1), name = 'conv0')(X_input)\n",
        "#     X = BatchNormalization(axis = 3, name = 'bn0')(X)\n",
        "#     X = Activation('relu')(X) # \n",
        "\n",
        "#     # MAXPOOL\n",
        "#     X = MaxPooling2D((2, 2), name='max_pool0')(X) # \n",
        "#     # X=Dropout(0.50)(X)\n",
        "\n",
        "\n",
        "#     X = Conv2D(128, (5, 5), strides=(2, 2), name='conv1')(X)\n",
        "#     X = BatchNormalization(axis=3, name='bn1')(X)\n",
        "#     X = Activation('relu')(X)  # shape=(?, 238, 238, 32)\n",
        "#     # MAXPOOL\n",
        "#     X = MaxPooling2D((4, 4), name='max_pool1')(X) # shape=(?, 14, 14, 32)\n",
        "#     X=Dropout(0.50)(X)\n",
        "\n",
        "#     # FLATTEN X \n",
        "#     X = Flatten()(X) # shape=(?, 6272)\n",
        "#     # FULLYCONNECTED\n",
        "#     X = Dense(1, activation='sigmoid', name='fc')(X) # shape=(?, 1)\n",
        "\n",
        "\n",
        "#     model = Model(inputs = X_input, outputs = X, name='BrainDetectionModel')\n",
        "\n",
        "#     return model\n",
        "# ------------------------------------------------\n",
        "# def build_model(input_shape):\n",
        "#     \"\"\"\n",
        "#     Arugments:\n",
        "#         input_shape: A tuple representing the shape of the input of the model. shape=(image_width, image_height, #_channels)\n",
        "#     Returns:\n",
        "#         model: A Model object.\n",
        "#     \"\"\"\n",
        "#     # Define the input placeholder as a tensor with shape input_shape. \n",
        "#     X_input = Input(input_shape) # shape=(?, 240, 240, 3)\n",
        "    \n",
        "#     # Zero-Padding: pads the border of X_input with zeroes\n",
        "#     X = ZeroPadding2D((2, 2))(X_input) # shape=(?, 244, 244, 3)\n",
        "    \n",
        "#     # CONV -> BN -> RELU Block applied to X\n",
        "#     X = Conv2D(32, (7, 7), strides = (1, 1), name = 'conv0')(X)\n",
        "#     X = BatchNormalization(axis = 3, name = 'bn0')(X)\n",
        "#     X = Activation('relu')(X) # shape=(?, 238, 238, 32)\n",
        "    \n",
        "#     # MAXPOOL\n",
        "#     X = MaxPooling2D((4, 4), name='max_pool0')(X) # shape=(?, 59, 59, 32) \n",
        "    \n",
        "#     # MAXPOOL\n",
        "#     X = MaxPooling2D((4, 4), name='max_pool1')(X) # shape=(?, 14, 14, 32)\n",
        "    \n",
        "#     # FLATTEN X \n",
        "#     X = Flatten()(X) # shape=(?, 6272)\n",
        "#     # FULLYCONNECTED\n",
        "#     X = Dense(1, activation='sigmoid', name='fc')(X) # shape=(?, 1)\n",
        "    \n",
        "#     # Create model. This creates your Keras model instance, you'll use this instance to train/test the model.\n",
        "#     model = Model(inputs = X_input, outputs = X, name='BrainDetectionModel')\n",
        "    \n",
        "#     return model"
      ],
      "metadata": {
        "id": "2uaQWmQeIl-r"
      },
      "execution_count": null,
      "outputs": []
    },
    {
      "cell_type": "code",
      "source": [
        "from tensorflow.keras import Sequential\n",
        "from tensorflow.keras.layers import Dense, Conv2D, MaxPooling2D, Dropout, Flatten\n",
        " \n",
        "from tensorflow.keras.datasets import cifar10\n",
        "from tensorflow.keras.utils import to_categorical\n",
        "from matplotlib.ticker import (MultipleLocator, FormatStrFormatter)\n",
        "from dataclasses import dataclass"
      ],
      "metadata": {
        "id": "22GDjXt9eeUP"
      },
      "execution_count": 11,
      "outputs": []
    },
    {
      "cell_type": "code",
      "source": [
        "def build_model(input_shape):\n",
        "    model = Sequential()\n",
        "    #block=1\n",
        "    model.add(Conv2D(filters=32, kernel_size=3, padding='same', activation='relu', input_shape=input_shape))\n",
        "    model.add(Conv2D(filters=32, kernel_size=3, padding='same', activation='relu'))\n",
        "    model.add(MaxPooling2D(pool_size=(2, 2)))\n",
        "    # model.add(Dropout(0.30))\n",
        "    #block=2\n",
        "    model.add(Conv2D(filters=64, kernel_size=3, padding='same', activation='relu'))\n",
        "    model.add(Conv2D(filters=64, kernel_size=3, padding='same', activation='relu'))\n",
        "    model.add(MaxPooling2D(pool_size=(2, 2)))\n",
        "    model.add(Dropout(0.25))\n",
        "    #block=3\n",
        "    model.add(Conv2D(filters=64, kernel_size=3, padding='same', activation='relu'))\n",
        "    model.add(Conv2D(filters=64, kernel_size=3, padding='same', activation='relu'))\n",
        "    model.add(MaxPooling2D(pool_size=(2, 2)))\n",
        "    model.add(Dropout(0.25))\n",
        "\n",
        "    model.add(Flatten())\n",
        "    model.add(Dense(256, activation='relu'))\n",
        "    model.add(Dropout(0.5))\n",
        "    model.add(Dense(1, activation='sigmoid'))\n",
        "\n",
        "\n",
        "    return model"
      ],
      "metadata": {
        "id": "eT2bhpqBdizW"
      },
      "execution_count": 21,
      "outputs": []
    },
    {
      "cell_type": "code",
      "source": [
        "IMG_SHAPE = (IMG_WIDTH, IMG_HEIGHT, 3)"
      ],
      "metadata": {
        "id": "Y8kfaO-zUeJ9"
      },
      "execution_count": 22,
      "outputs": []
    },
    {
      "cell_type": "code",
      "source": [
        "model = build_model(IMG_SHAPE)"
      ],
      "metadata": {
        "id": "Qlfj77CsUnxr"
      },
      "execution_count": 23,
      "outputs": []
    },
    {
      "cell_type": "code",
      "source": [
        "model.summary()"
      ],
      "metadata": {
        "colab": {
          "base_uri": "https://localhost:8080/"
        },
        "id": "B-hW9L7MUrWU",
        "outputId": "227d906b-a8a1-4782-d096-4486f4ebd1fc"
      },
      "execution_count": 24,
      "outputs": [
        {
          "output_type": "stream",
          "name": "stdout",
          "text": [
            "Model: \"sequential_1\"\n",
            "_________________________________________________________________\n",
            " Layer (type)                Output Shape              Param #   \n",
            "=================================================================\n",
            " conv2d_6 (Conv2D)           (None, 256, 256, 32)      896       \n",
            "                                                                 \n",
            " conv2d_7 (Conv2D)           (None, 256, 256, 32)      9248      \n",
            "                                                                 \n",
            " max_pooling2d_3 (MaxPooling  (None, 128, 128, 32)     0         \n",
            " 2D)                                                             \n",
            "                                                                 \n",
            " conv2d_8 (Conv2D)           (None, 128, 128, 64)      18496     \n",
            "                                                                 \n",
            " conv2d_9 (Conv2D)           (None, 128, 128, 64)      36928     \n",
            "                                                                 \n",
            " max_pooling2d_4 (MaxPooling  (None, 64, 64, 64)       0         \n",
            " 2D)                                                             \n",
            "                                                                 \n",
            " dropout_4 (Dropout)         (None, 64, 64, 64)        0         \n",
            "                                                                 \n",
            " conv2d_10 (Conv2D)          (None, 64, 64, 64)        36928     \n",
            "                                                                 \n",
            " conv2d_11 (Conv2D)          (None, 64, 64, 64)        36928     \n",
            "                                                                 \n",
            " max_pooling2d_5 (MaxPooling  (None, 32, 32, 64)       0         \n",
            " 2D)                                                             \n",
            "                                                                 \n",
            " dropout_5 (Dropout)         (None, 32, 32, 64)        0         \n",
            "                                                                 \n",
            " flatten_1 (Flatten)         (None, 65536)             0         \n",
            "                                                                 \n",
            " dense_2 (Dense)             (None, 256)               16777472  \n",
            "                                                                 \n",
            " dropout_6 (Dropout)         (None, 256)               0         \n",
            "                                                                 \n",
            " dense_3 (Dense)             (None, 1)                 257       \n",
            "                                                                 \n",
            "=================================================================\n",
            "Total params: 16,917,153\n",
            "Trainable params: 16,917,153\n",
            "Non-trainable params: 0\n",
            "_________________________________________________________________\n"
          ]
        }
      ]
    },
    {
      "cell_type": "code",
      "source": [
        "model.compile(optimizer='adam', loss='binary_crossentropy', metrics=['accuracy'])\n",
        "# model.compile(optimizer='rmsprop', \n",
        "#               loss='categorical_crossentropy', \n",
        "#               metrics=['accuracy'],\n",
        "#              )"
      ],
      "metadata": {
        "id": "GPPNQuZ8UtDH"
      },
      "execution_count": 25,
      "outputs": []
    },
    {
      "cell_type": "code",
      "source": [
        "# tensorboard\n",
        "log_file_name = f'brain_tumor_detection_cnn_{int(time.time())}'\n",
        "tensorboard = TensorBoard(log_dir=f'logs/{log_file_name}')"
      ],
      "metadata": {
        "id": "ihgkZ-QKUyxd"
      },
      "execution_count": 18,
      "outputs": []
    },
    {
      "cell_type": "code",
      "source": [
        "# checkpoint\n",
        "# unique file name that will include the epoch and the validation (development) accuracy\n",
        "filepath=\"cnn-parameters-improvement-{epoch:02d}-{val_accuracy:.2f}\"\n",
        "# save the model with the best validation (development) accuracy till now\n",
        "checkpoint = ModelCheckpoint(\"./Brain_Tumor_Detection_Models/{}.model\".format(filepath, monitor='val_accuracy', verbose=1, save_best_only=True, mode='max'))"
      ],
      "metadata": {
        "id": "YiXNF1M_U3Pr"
      },
      "execution_count": 19,
      "outputs": []
    },
    {
      "cell_type": "code",
      "source": [
        "start_time = time.time()\n",
        "\n",
        "history = model.fit(x=X_train, y=y_train, batch_size=32, epochs=30, validation_data=(X_val, y_val), callbacks=[tensorboard, checkpoint])\n",
        "\n",
        "end_time = time.time() \n",
        "execution_time = (end_time - start_time)\n",
        "print(f\"Elapsed time: {hms_string(execution_time)}\")\n"
      ],
      "metadata": {
        "colab": {
          "base_uri": "https://localhost:8080/"
        },
        "id": "8C4bVS08VB76",
        "outputId": "93d06070-d1d4-41ab-b714-104bd8bdd1e0"
      },
      "execution_count": 26,
      "outputs": [
        {
          "output_type": "stream",
          "name": "stdout",
          "text": [
            "Epoch 1/30\n",
            "35/35 [==============================] - ETA: 0s - loss: 0.6321 - accuracy: 0.7049"
          ]
        },
        {
          "output_type": "stream",
          "name": "stderr",
          "text": [
            "WARNING:absl:Found untraced functions such as _jit_compiled_convolution_op, _jit_compiled_convolution_op, _jit_compiled_convolution_op, _jit_compiled_convolution_op, _jit_compiled_convolution_op while saving (showing 5 of 6). These functions will not be directly callable after loading.\n"
          ]
        },
        {
          "output_type": "stream",
          "name": "stdout",
          "text": [
            "\b\b\b\b\b\b\b\b\b\b\b\b\b\b\b\b\b\b\b\b\b\b\b\b\b\b\b\b\b\b\b\b\b\b\b\b\b\b\b\b\b\b\b\b\b\b\b\b\b\b\b\b\b\b\b\b\b\b\b\b\b\b\b\b\b\b\b\b\b\b\b\b\b\b\b\b\b\b\b\b\b\b\r35/35 [==============================] - 15s 314ms/step - loss: 0.6321 - accuracy: 0.7049 - val_loss: 0.4521 - val_accuracy: 0.7609\n",
            "Epoch 2/30\n",
            "35/35 [==============================] - ETA: 0s - loss: 0.4200 - accuracy: 0.8069"
          ]
        },
        {
          "output_type": "stream",
          "name": "stderr",
          "text": [
            "WARNING:absl:Found untraced functions such as _jit_compiled_convolution_op, _jit_compiled_convolution_op, _jit_compiled_convolution_op, _jit_compiled_convolution_op, _jit_compiled_convolution_op while saving (showing 5 of 6). These functions will not be directly callable after loading.\n"
          ]
        },
        {
          "output_type": "stream",
          "name": "stdout",
          "text": [
            "\b\b\b\b\b\b\b\b\b\b\b\b\b\b\b\b\b\b\b\b\b\b\b\b\b\b\b\b\b\b\b\b\b\b\b\b\b\b\b\b\b\b\b\b\b\b\b\b\b\b\b\b\b\b\b\b\b\b\b\b\b\b\b\b\b\b\b\b\b\b\b\b\b\b\b\b\b\b\b\b\b\b\r35/35 [==============================] - 10s 279ms/step - loss: 0.4200 - accuracy: 0.8069 - val_loss: 0.3372 - val_accuracy: 0.8587\n",
            "Epoch 3/30\n",
            "35/35 [==============================] - ETA: 0s - loss: 0.3158 - accuracy: 0.8725"
          ]
        },
        {
          "output_type": "stream",
          "name": "stderr",
          "text": [
            "WARNING:absl:Found untraced functions such as _jit_compiled_convolution_op, _jit_compiled_convolution_op, _jit_compiled_convolution_op, _jit_compiled_convolution_op, _jit_compiled_convolution_op while saving (showing 5 of 6). These functions will not be directly callable after loading.\n"
          ]
        },
        {
          "output_type": "stream",
          "name": "stdout",
          "text": [
            "\b\b\b\b\b\b\b\b\b\b\b\b\b\b\b\b\b\b\b\b\b\b\b\b\b\b\b\b\b\b\b\b\b\b\b\b\b\b\b\b\b\b\b\b\b\b\b\b\b\b\b\b\b\b\b\b\b\b\b\b\b\b\b\b\b\b\b\b\b\b\b\b\b\b\b\b\b\b\b\b\b\b\r35/35 [==============================] - 10s 293ms/step - loss: 0.3158 - accuracy: 0.8725 - val_loss: 0.2248 - val_accuracy: 0.9348\n",
            "Epoch 4/30\n",
            "35/35 [==============================] - ETA: 0s - loss: 0.2226 - accuracy: 0.9117"
          ]
        },
        {
          "output_type": "stream",
          "name": "stderr",
          "text": [
            "WARNING:absl:Found untraced functions such as _jit_compiled_convolution_op, _jit_compiled_convolution_op, _jit_compiled_convolution_op, _jit_compiled_convolution_op, _jit_compiled_convolution_op while saving (showing 5 of 6). These functions will not be directly callable after loading.\n"
          ]
        },
        {
          "output_type": "stream",
          "name": "stdout",
          "text": [
            "\b\b\b\b\b\b\b\b\b\b\b\b\b\b\b\b\b\b\b\b\b\b\b\b\b\b\b\b\b\b\b\b\b\b\b\b\b\b\b\b\b\b\b\b\b\b\b\b\b\b\b\b\b\b\b\b\b\b\b\b\b\b\b\b\b\b\b\b\b\b\b\b\b\b\b\b\b\b\b\b\b\b\r35/35 [==============================] - 10s 300ms/step - loss: 0.2226 - accuracy: 0.9117 - val_loss: 0.1455 - val_accuracy: 0.9348\n",
            "Epoch 5/30\n",
            "35/35 [==============================] - ETA: 0s - loss: 0.1688 - accuracy: 0.9326"
          ]
        },
        {
          "output_type": "stream",
          "name": "stderr",
          "text": [
            "WARNING:absl:Found untraced functions such as _jit_compiled_convolution_op, _jit_compiled_convolution_op, _jit_compiled_convolution_op, _jit_compiled_convolution_op, _jit_compiled_convolution_op while saving (showing 5 of 6). These functions will not be directly callable after loading.\n"
          ]
        },
        {
          "output_type": "stream",
          "name": "stdout",
          "text": [
            "\b\b\b\b\b\b\b\b\b\b\b\b\b\b\b\b\b\b\b\b\b\b\b\b\b\b\b\b\b\b\b\b\b\b\b\b\b\b\b\b\b\b\b\b\b\b\b\b\b\b\b\b\b\b\b\b\b\b\b\b\b\b\b\b\b\b\b\b\b\b\b\b\b\b\b\b\b\b\b\b\b\b\r35/35 [==============================] - 10s 293ms/step - loss: 0.1688 - accuracy: 0.9326 - val_loss: 0.1374 - val_accuracy: 0.9457\n",
            "Epoch 6/30\n",
            "35/35 [==============================] - ETA: 0s - loss: 0.1039 - accuracy: 0.9590"
          ]
        },
        {
          "output_type": "stream",
          "name": "stderr",
          "text": [
            "WARNING:absl:Found untraced functions such as _jit_compiled_convolution_op, _jit_compiled_convolution_op, _jit_compiled_convolution_op, _jit_compiled_convolution_op, _jit_compiled_convolution_op while saving (showing 5 of 6). These functions will not be directly callable after loading.\n"
          ]
        },
        {
          "output_type": "stream",
          "name": "stdout",
          "text": [
            "\b\b\b\b\b\b\b\b\b\b\b\b\b\b\b\b\b\b\b\b\b\b\b\b\b\b\b\b\b\b\b\b\b\b\b\b\b\b\b\b\b\b\b\b\b\b\b\b\b\b\b\b\b\b\b\b\b\b\b\b\b\b\b\b\b\b\b\b\b\b\b\b\b\b\b\b\b\b\b\b\b\b\r35/35 [==============================] - 10s 283ms/step - loss: 0.1039 - accuracy: 0.9590 - val_loss: 0.0511 - val_accuracy: 0.9891\n",
            "Epoch 7/30\n",
            "35/35 [==============================] - ETA: 0s - loss: 0.0752 - accuracy: 0.9736"
          ]
        },
        {
          "output_type": "stream",
          "name": "stderr",
          "text": [
            "WARNING:absl:Found untraced functions such as _jit_compiled_convolution_op, _jit_compiled_convolution_op, _jit_compiled_convolution_op, _jit_compiled_convolution_op, _jit_compiled_convolution_op while saving (showing 5 of 6). These functions will not be directly callable after loading.\n"
          ]
        },
        {
          "output_type": "stream",
          "name": "stdout",
          "text": [
            "\b\b\b\b\b\b\b\b\b\b\b\b\b\b\b\b\b\b\b\b\b\b\b\b\b\b\b\b\b\b\b\b\b\b\b\b\b\b\b\b\b\b\b\b\b\b\b\b\b\b\b\b\b\b\b\b\b\b\b\b\b\b\b\b\b\b\b\b\b\b\b\b\b\b\b\b\b\b\b\b\b\b\r35/35 [==============================] - 10s 292ms/step - loss: 0.0752 - accuracy: 0.9736 - val_loss: 0.0760 - val_accuracy: 0.9565\n",
            "Epoch 8/30\n",
            "35/35 [==============================] - ETA: 0s - loss: 0.0581 - accuracy: 0.9754"
          ]
        },
        {
          "output_type": "stream",
          "name": "stderr",
          "text": [
            "WARNING:absl:Found untraced functions such as _jit_compiled_convolution_op, _jit_compiled_convolution_op, _jit_compiled_convolution_op, _jit_compiled_convolution_op, _jit_compiled_convolution_op while saving (showing 5 of 6). These functions will not be directly callable after loading.\n"
          ]
        },
        {
          "output_type": "stream",
          "name": "stdout",
          "text": [
            "\b\b\b\b\b\b\b\b\b\b\b\b\b\b\b\b\b\b\b\b\b\b\b\b\b\b\b\b\b\b\b\b\b\b\b\b\b\b\b\b\b\b\b\b\b\b\b\b\b\b\b\b\b\b\b\b\b\b\b\b\b\b\b\b\b\b\b\b\b\b\b\b\b\b\b\b\b\b\b\b\b\b\r35/35 [==============================] - 10s 300ms/step - loss: 0.0581 - accuracy: 0.9754 - val_loss: 0.0341 - val_accuracy: 0.9783\n",
            "Epoch 9/30\n",
            "35/35 [==============================] - ETA: 0s - loss: 0.0524 - accuracy: 0.9781"
          ]
        },
        {
          "output_type": "stream",
          "name": "stderr",
          "text": [
            "WARNING:absl:Found untraced functions such as _jit_compiled_convolution_op, _jit_compiled_convolution_op, _jit_compiled_convolution_op, _jit_compiled_convolution_op, _jit_compiled_convolution_op while saving (showing 5 of 6). These functions will not be directly callable after loading.\n"
          ]
        },
        {
          "output_type": "stream",
          "name": "stdout",
          "text": [
            "\b\b\b\b\b\b\b\b\b\b\b\b\b\b\b\b\b\b\b\b\b\b\b\b\b\b\b\b\b\b\b\b\b\b\b\b\b\b\b\b\b\b\b\b\b\b\b\b\b\b\b\b\b\b\b\b\b\b\b\b\b\b\b\b\b\b\b\b\b\b\b\b\b\b\b\b\b\b\b\b\b\b\r35/35 [==============================] - 10s 281ms/step - loss: 0.0524 - accuracy: 0.9781 - val_loss: 0.1184 - val_accuracy: 0.9457\n",
            "Epoch 10/30\n",
            "35/35 [==============================] - ETA: 0s - loss: 0.0515 - accuracy: 0.9809"
          ]
        },
        {
          "output_type": "stream",
          "name": "stderr",
          "text": [
            "WARNING:absl:Found untraced functions such as _jit_compiled_convolution_op, _jit_compiled_convolution_op, _jit_compiled_convolution_op, _jit_compiled_convolution_op, _jit_compiled_convolution_op while saving (showing 5 of 6). These functions will not be directly callable after loading.\n"
          ]
        },
        {
          "output_type": "stream",
          "name": "stdout",
          "text": [
            "\b\b\b\b\b\b\b\b\b\b\b\b\b\b\b\b\b\b\b\b\b\b\b\b\b\b\b\b\b\b\b\b\b\b\b\b\b\b\b\b\b\b\b\b\b\b\b\b\b\b\b\b\b\b\b\b\b\b\b\b\b\b\b\b\b\b\b\b\b\b\b\b\b\b\b\b\b\b\b\b\b\b\r35/35 [==============================] - 10s 286ms/step - loss: 0.0515 - accuracy: 0.9809 - val_loss: 0.0417 - val_accuracy: 0.9783\n",
            "Epoch 11/30\n",
            "35/35 [==============================] - ETA: 0s - loss: 0.0243 - accuracy: 0.9918"
          ]
        },
        {
          "output_type": "stream",
          "name": "stderr",
          "text": [
            "WARNING:absl:Found untraced functions such as _jit_compiled_convolution_op, _jit_compiled_convolution_op, _jit_compiled_convolution_op, _jit_compiled_convolution_op, _jit_compiled_convolution_op while saving (showing 5 of 6). These functions will not be directly callable after loading.\n"
          ]
        },
        {
          "output_type": "stream",
          "name": "stdout",
          "text": [
            "\b\b\b\b\b\b\b\b\b\b\b\b\b\b\b\b\b\b\b\b\b\b\b\b\b\b\b\b\b\b\b\b\b\b\b\b\b\b\b\b\b\b\b\b\b\b\b\b\b\b\b\b\b\b\b\b\b\b\b\b\b\b\b\b\b\b\b\b\b\b\b\b\b\b\b\b\b\b\b\b\b\b\r35/35 [==============================] - 10s 279ms/step - loss: 0.0243 - accuracy: 0.9918 - val_loss: 0.0568 - val_accuracy: 0.9674\n",
            "Epoch 12/30\n",
            "35/35 [==============================] - ETA: 0s - loss: 0.0332 - accuracy: 0.9900"
          ]
        },
        {
          "output_type": "stream",
          "name": "stderr",
          "text": [
            "WARNING:absl:Found untraced functions such as _jit_compiled_convolution_op, _jit_compiled_convolution_op, _jit_compiled_convolution_op, _jit_compiled_convolution_op, _jit_compiled_convolution_op while saving (showing 5 of 6). These functions will not be directly callable after loading.\n"
          ]
        },
        {
          "output_type": "stream",
          "name": "stdout",
          "text": [
            "\b\b\b\b\b\b\b\b\b\b\b\b\b\b\b\b\b\b\b\b\b\b\b\b\b\b\b\b\b\b\b\b\b\b\b\b\b\b\b\b\b\b\b\b\b\b\b\b\b\b\b\b\b\b\b\b\b\b\b\b\b\b\b\b\b\b\b\b\b\b\b\b\b\b\b\b\b\b\b\b\b\b\r35/35 [==============================] - 10s 299ms/step - loss: 0.0332 - accuracy: 0.9900 - val_loss: 0.0406 - val_accuracy: 0.9783\n",
            "Epoch 13/30\n",
            "35/35 [==============================] - ETA: 0s - loss: 0.0228 - accuracy: 0.9936"
          ]
        },
        {
          "output_type": "stream",
          "name": "stderr",
          "text": [
            "WARNING:absl:Found untraced functions such as _jit_compiled_convolution_op, _jit_compiled_convolution_op, _jit_compiled_convolution_op, _jit_compiled_convolution_op, _jit_compiled_convolution_op while saving (showing 5 of 6). These functions will not be directly callable after loading.\n"
          ]
        },
        {
          "output_type": "stream",
          "name": "stdout",
          "text": [
            "\b\b\b\b\b\b\b\b\b\b\b\b\b\b\b\b\b\b\b\b\b\b\b\b\b\b\b\b\b\b\b\b\b\b\b\b\b\b\b\b\b\b\b\b\b\b\b\b\b\b\b\b\b\b\b\b\b\b\b\b\b\b\b\b\b\b\b\b\b\b\b\b\b\b\b\b\b\b\b\b\b\b\r35/35 [==============================] - 10s 288ms/step - loss: 0.0228 - accuracy: 0.9936 - val_loss: 0.0329 - val_accuracy: 0.9783\n",
            "Epoch 14/30\n",
            "35/35 [==============================] - ETA: 0s - loss: 0.0314 - accuracy: 0.9909"
          ]
        },
        {
          "output_type": "stream",
          "name": "stderr",
          "text": [
            "WARNING:absl:Found untraced functions such as _jit_compiled_convolution_op, _jit_compiled_convolution_op, _jit_compiled_convolution_op, _jit_compiled_convolution_op, _jit_compiled_convolution_op while saving (showing 5 of 6). These functions will not be directly callable after loading.\n"
          ]
        },
        {
          "output_type": "stream",
          "name": "stdout",
          "text": [
            "\b\b\b\b\b\b\b\b\b\b\b\b\b\b\b\b\b\b\b\b\b\b\b\b\b\b\b\b\b\b\b\b\b\b\b\b\b\b\b\b\b\b\b\b\b\b\b\b\b\b\b\b\b\b\b\b\b\b\b\b\b\b\b\b\b\b\b\b\b\b\b\b\b\b\b\b\b\b\b\b\b\b\r35/35 [==============================] - 10s 280ms/step - loss: 0.0314 - accuracy: 0.9909 - val_loss: 0.0891 - val_accuracy: 0.9674\n",
            "Epoch 15/30\n",
            "35/35 [==============================] - ETA: 0s - loss: 0.0028 - accuracy: 1.0000"
          ]
        },
        {
          "output_type": "stream",
          "name": "stderr",
          "text": [
            "WARNING:absl:Found untraced functions such as _jit_compiled_convolution_op, _jit_compiled_convolution_op, _jit_compiled_convolution_op, _jit_compiled_convolution_op, _jit_compiled_convolution_op while saving (showing 5 of 6). These functions will not be directly callable after loading.\n"
          ]
        },
        {
          "output_type": "stream",
          "name": "stdout",
          "text": [
            "\b\b\b\b\b\b\b\b\b\b\b\b\b\b\b\b\b\b\b\b\b\b\b\b\b\b\b\b\b\b\b\b\b\b\b\b\b\b\b\b\b\b\b\b\b\b\b\b\b\b\b\b\b\b\b\b\b\b\b\b\b\b\b\b\b\b\b\b\b\b\b\b\b\b\b\b\b\b\b\b\b\b\r35/35 [==============================] - 10s 282ms/step - loss: 0.0028 - accuracy: 1.0000 - val_loss: 0.0989 - val_accuracy: 0.9565\n",
            "Epoch 16/30\n",
            "35/35 [==============================] - ETA: 0s - loss: 0.0029 - accuracy: 0.9991"
          ]
        },
        {
          "output_type": "stream",
          "name": "stderr",
          "text": [
            "WARNING:absl:Found untraced functions such as _jit_compiled_convolution_op, _jit_compiled_convolution_op, _jit_compiled_convolution_op, _jit_compiled_convolution_op, _jit_compiled_convolution_op while saving (showing 5 of 6). These functions will not be directly callable after loading.\n"
          ]
        },
        {
          "output_type": "stream",
          "name": "stdout",
          "text": [
            "\b\b\b\b\b\b\b\b\b\b\b\b\b\b\b\b\b\b\b\b\b\b\b\b\b\b\b\b\b\b\b\b\b\b\b\b\b\b\b\b\b\b\b\b\b\b\b\b\b\b\b\b\b\b\b\b\b\b\b\b\b\b\b\b\b\b\b\b\b\b\b\b\b\b\b\b\b\b\b\b\b\b\r35/35 [==============================] - 11s 303ms/step - loss: 0.0029 - accuracy: 0.9991 - val_loss: 0.0861 - val_accuracy: 0.9565\n",
            "Epoch 17/30\n",
            "35/35 [==============================] - ETA: 0s - loss: 0.0299 - accuracy: 0.9909"
          ]
        },
        {
          "output_type": "stream",
          "name": "stderr",
          "text": [
            "WARNING:absl:Found untraced functions such as _jit_compiled_convolution_op, _jit_compiled_convolution_op, _jit_compiled_convolution_op, _jit_compiled_convolution_op, _jit_compiled_convolution_op while saving (showing 5 of 6). These functions will not be directly callable after loading.\n"
          ]
        },
        {
          "output_type": "stream",
          "name": "stdout",
          "text": [
            "\b\b\b\b\b\b\b\b\b\b\b\b\b\b\b\b\b\b\b\b\b\b\b\b\b\b\b\b\b\b\b\b\b\b\b\b\b\b\b\b\b\b\b\b\b\b\b\b\b\b\b\b\b\b\b\b\b\b\b\b\b\b\b\b\b\b\b\b\b\b\b\b\b\b\b\b\b\b\b\b\b\b\r35/35 [==============================] - 10s 278ms/step - loss: 0.0299 - accuracy: 0.9909 - val_loss: 0.0555 - val_accuracy: 0.9783\n",
            "Epoch 18/30\n",
            "35/35 [==============================] - ETA: 0s - loss: 0.0186 - accuracy: 0.9936"
          ]
        },
        {
          "output_type": "stream",
          "name": "stderr",
          "text": [
            "WARNING:absl:Found untraced functions such as _jit_compiled_convolution_op, _jit_compiled_convolution_op, _jit_compiled_convolution_op, _jit_compiled_convolution_op, _jit_compiled_convolution_op while saving (showing 5 of 6). These functions will not be directly callable after loading.\n"
          ]
        },
        {
          "output_type": "stream",
          "name": "stdout",
          "text": [
            "\b\b\b\b\b\b\b\b\b\b\b\b\b\b\b\b\b\b\b\b\b\b\b\b\b\b\b\b\b\b\b\b\b\b\b\b\b\b\b\b\b\b\b\b\b\b\b\b\b\b\b\b\b\b\b\b\b\b\b\b\b\b\b\b\b\b\b\b\b\b\b\b\b\b\b\b\b\b\b\b\b\b\r35/35 [==============================] - 10s 279ms/step - loss: 0.0186 - accuracy: 0.9936 - val_loss: 0.0506 - val_accuracy: 0.9783\n",
            "Epoch 19/30\n",
            "35/35 [==============================] - ETA: 0s - loss: 0.0304 - accuracy: 0.9927"
          ]
        },
        {
          "output_type": "stream",
          "name": "stderr",
          "text": [
            "WARNING:absl:Found untraced functions such as _jit_compiled_convolution_op, _jit_compiled_convolution_op, _jit_compiled_convolution_op, _jit_compiled_convolution_op, _jit_compiled_convolution_op while saving (showing 5 of 6). These functions will not be directly callable after loading.\n"
          ]
        },
        {
          "output_type": "stream",
          "name": "stdout",
          "text": [
            "\b\b\b\b\b\b\b\b\b\b\b\b\b\b\b\b\b\b\b\b\b\b\b\b\b\b\b\b\b\b\b\b\b\b\b\b\b\b\b\b\b\b\b\b\b\b\b\b\b\b\b\b\b\b\b\b\b\b\b\b\b\b\b\b\b\b\b\b\b\b\b\b\b\b\b\b\b\b\b\b\b\b\r35/35 [==============================] - 10s 295ms/step - loss: 0.0304 - accuracy: 0.9927 - val_loss: 0.0432 - val_accuracy: 0.9891\n",
            "Epoch 20/30\n",
            "35/35 [==============================] - ETA: 0s - loss: 0.0062 - accuracy: 0.9982"
          ]
        },
        {
          "output_type": "stream",
          "name": "stderr",
          "text": [
            "WARNING:absl:Found untraced functions such as _jit_compiled_convolution_op, _jit_compiled_convolution_op, _jit_compiled_convolution_op, _jit_compiled_convolution_op, _jit_compiled_convolution_op while saving (showing 5 of 6). These functions will not be directly callable after loading.\n"
          ]
        },
        {
          "output_type": "stream",
          "name": "stdout",
          "text": [
            "\b\b\b\b\b\b\b\b\b\b\b\b\b\b\b\b\b\b\b\b\b\b\b\b\b\b\b\b\b\b\b\b\b\b\b\b\b\b\b\b\b\b\b\b\b\b\b\b\b\b\b\b\b\b\b\b\b\b\b\b\b\b\b\b\b\b\b\b\b\b\b\b\b\b\b\b\b\b\b\b\b\b\r35/35 [==============================] - 10s 295ms/step - loss: 0.0062 - accuracy: 0.9982 - val_loss: 0.0308 - val_accuracy: 0.9891\n",
            "Epoch 21/30\n",
            "35/35 [==============================] - ETA: 0s - loss: 0.0018 - accuracy: 0.9991"
          ]
        },
        {
          "output_type": "stream",
          "name": "stderr",
          "text": [
            "WARNING:absl:Found untraced functions such as _jit_compiled_convolution_op, _jit_compiled_convolution_op, _jit_compiled_convolution_op, _jit_compiled_convolution_op, _jit_compiled_convolution_op while saving (showing 5 of 6). These functions will not be directly callable after loading.\n"
          ]
        },
        {
          "output_type": "stream",
          "name": "stdout",
          "text": [
            "\b\b\b\b\b\b\b\b\b\b\b\b\b\b\b\b\b\b\b\b\b\b\b\b\b\b\b\b\b\b\b\b\b\b\b\b\b\b\b\b\b\b\b\b\b\b\b\b\b\b\b\b\b\b\b\b\b\b\b\b\b\b\b\b\b\b\b\b\b\b\b\b\b\b\b\b\b\b\b\b\b\b\r35/35 [==============================] - 10s 277ms/step - loss: 0.0018 - accuracy: 0.9991 - val_loss: 0.0234 - val_accuracy: 0.9891\n",
            "Epoch 22/30\n",
            "35/35 [==============================] - ETA: 0s - loss: 0.0013 - accuracy: 1.0000"
          ]
        },
        {
          "output_type": "stream",
          "name": "stderr",
          "text": [
            "WARNING:absl:Found untraced functions such as _jit_compiled_convolution_op, _jit_compiled_convolution_op, _jit_compiled_convolution_op, _jit_compiled_convolution_op, _jit_compiled_convolution_op while saving (showing 5 of 6). These functions will not be directly callable after loading.\n"
          ]
        },
        {
          "output_type": "stream",
          "name": "stdout",
          "text": [
            "\b\b\b\b\b\b\b\b\b\b\b\b\b\b\b\b\b\b\b\b\b\b\b\b\b\b\b\b\b\b\b\b\b\b\b\b\b\b\b\b\b\b\b\b\b\b\b\b\b\b\b\b\b\b\b\b\b\b\b\b\b\b\b\b\b\b\b\b\b\b\b\b\b\b\b\b\b\b\b\b\b\b\r35/35 [==============================] - 10s 277ms/step - loss: 0.0013 - accuracy: 1.0000 - val_loss: 0.0214 - val_accuracy: 0.9891\n",
            "Epoch 23/30\n",
            "35/35 [==============================] - ETA: 0s - loss: 3.8424e-04 - accuracy: 1.0000"
          ]
        },
        {
          "output_type": "stream",
          "name": "stderr",
          "text": [
            "WARNING:absl:Found untraced functions such as _jit_compiled_convolution_op, _jit_compiled_convolution_op, _jit_compiled_convolution_op, _jit_compiled_convolution_op, _jit_compiled_convolution_op while saving (showing 5 of 6). These functions will not be directly callable after loading.\n"
          ]
        },
        {
          "output_type": "stream",
          "name": "stdout",
          "text": [
            "\b\b\b\b\b\b\b\b\b\b\b\b\b\b\b\b\b\b\b\b\b\b\b\b\b\b\b\b\b\b\b\b\b\b\b\b\b\b\b\b\b\b\b\b\b\b\b\b\b\b\b\b\b\b\b\b\b\b\b\b\b\b\b\b\b\b\b\b\b\b\b\b\b\b\b\b\b\b\b\b\b\b\b\b\b\b\r35/35 [==============================] - 11s 308ms/step - loss: 3.8424e-04 - accuracy: 1.0000 - val_loss: 0.0153 - val_accuracy: 1.0000\n",
            "Epoch 24/30\n",
            "35/35 [==============================] - ETA: 0s - loss: 3.4607e-04 - accuracy: 1.0000"
          ]
        },
        {
          "output_type": "stream",
          "name": "stderr",
          "text": [
            "WARNING:absl:Found untraced functions such as _jit_compiled_convolution_op, _jit_compiled_convolution_op, _jit_compiled_convolution_op, _jit_compiled_convolution_op, _jit_compiled_convolution_op while saving (showing 5 of 6). These functions will not be directly callable after loading.\n"
          ]
        },
        {
          "output_type": "stream",
          "name": "stdout",
          "text": [
            "\b\b\b\b\b\b\b\b\b\b\b\b\b\b\b\b\b\b\b\b\b\b\b\b\b\b\b\b\b\b\b\b\b\b\b\b\b\b\b\b\b\b\b\b\b\b\b\b\b\b\b\b\b\b\b\b\b\b\b\b\b\b\b\b\b\b\b\b\b\b\b\b\b\b\b\b\b\b\b\b\b\b\b\b\b\b\r35/35 [==============================] - 10s 274ms/step - loss: 3.4607e-04 - accuracy: 1.0000 - val_loss: 0.0144 - val_accuracy: 1.0000\n",
            "Epoch 25/30\n",
            "35/35 [==============================] - ETA: 0s - loss: 4.6064e-04 - accuracy: 1.0000"
          ]
        },
        {
          "output_type": "stream",
          "name": "stderr",
          "text": [
            "WARNING:absl:Found untraced functions such as _jit_compiled_convolution_op, _jit_compiled_convolution_op, _jit_compiled_convolution_op, _jit_compiled_convolution_op, _jit_compiled_convolution_op while saving (showing 5 of 6). These functions will not be directly callable after loading.\n"
          ]
        },
        {
          "output_type": "stream",
          "name": "stdout",
          "text": [
            "\b\b\b\b\b\b\b\b\b\b\b\b\b\b\b\b\b\b\b\b\b\b\b\b\b\b\b\b\b\b\b\b\b\b\b\b\b\b\b\b\b\b\b\b\b\b\b\b\b\b\b\b\b\b\b\b\b\b\b\b\b\b\b\b\b\b\b\b\b\b\b\b\b\b\b\b\b\b\b\b\b\b\b\b\b\b\r35/35 [==============================] - 10s 280ms/step - loss: 4.6064e-04 - accuracy: 1.0000 - val_loss: 0.0144 - val_accuracy: 0.9891\n",
            "Epoch 26/30\n",
            "35/35 [==============================] - ETA: 0s - loss: 3.1600e-04 - accuracy: 1.0000"
          ]
        },
        {
          "output_type": "stream",
          "name": "stderr",
          "text": [
            "WARNING:absl:Found untraced functions such as _jit_compiled_convolution_op, _jit_compiled_convolution_op, _jit_compiled_convolution_op, _jit_compiled_convolution_op, _jit_compiled_convolution_op while saving (showing 5 of 6). These functions will not be directly callable after loading.\n"
          ]
        },
        {
          "output_type": "stream",
          "name": "stdout",
          "text": [
            "\b\b\b\b\b\b\b\b\b\b\b\b\b\b\b\b\b\b\b\b\b\b\b\b\b\b\b\b\b\b\b\b\b\b\b\b\b\b\b\b\b\b\b\b\b\b\b\b\b\b\b\b\b\b\b\b\b\b\b\b\b\b\b\b\b\b\b\b\b\b\b\b\b\b\b\b\b\b\b\b\b\b\b\b\b\b\r35/35 [==============================] - 10s 294ms/step - loss: 3.1600e-04 - accuracy: 1.0000 - val_loss: 0.0247 - val_accuracy: 0.9891\n",
            "Epoch 27/30\n",
            "35/35 [==============================] - ETA: 0s - loss: 1.7378e-04 - accuracy: 1.0000"
          ]
        },
        {
          "output_type": "stream",
          "name": "stderr",
          "text": [
            "WARNING:absl:Found untraced functions such as _jit_compiled_convolution_op, _jit_compiled_convolution_op, _jit_compiled_convolution_op, _jit_compiled_convolution_op, _jit_compiled_convolution_op while saving (showing 5 of 6). These functions will not be directly callable after loading.\n"
          ]
        },
        {
          "output_type": "stream",
          "name": "stdout",
          "text": [
            "\b\b\b\b\b\b\b\b\b\b\b\b\b\b\b\b\b\b\b\b\b\b\b\b\b\b\b\b\b\b\b\b\b\b\b\b\b\b\b\b\b\b\b\b\b\b\b\b\b\b\b\b\b\b\b\b\b\b\b\b\b\b\b\b\b\b\b\b\b\b\b\b\b\b\b\b\b\b\b\b\b\b\b\b\b\b\r35/35 [==============================] - 10s 293ms/step - loss: 1.7378e-04 - accuracy: 1.0000 - val_loss: 0.0181 - val_accuracy: 0.9891\n",
            "Epoch 28/30\n",
            "35/35 [==============================] - ETA: 0s - loss: 1.0982e-04 - accuracy: 1.0000"
          ]
        },
        {
          "output_type": "stream",
          "name": "stderr",
          "text": [
            "WARNING:absl:Found untraced functions such as _jit_compiled_convolution_op, _jit_compiled_convolution_op, _jit_compiled_convolution_op, _jit_compiled_convolution_op, _jit_compiled_convolution_op while saving (showing 5 of 6). These functions will not be directly callable after loading.\n"
          ]
        },
        {
          "output_type": "stream",
          "name": "stdout",
          "text": [
            "\b\b\b\b\b\b\b\b\b\b\b\b\b\b\b\b\b\b\b\b\b\b\b\b\b\b\b\b\b\b\b\b\b\b\b\b\b\b\b\b\b\b\b\b\b\b\b\b\b\b\b\b\b\b\b\b\b\b\b\b\b\b\b\b\b\b\b\b\b\b\b\b\b\b\b\b\b\b\b\b\b\b\b\b\b\b\r35/35 [==============================] - 10s 278ms/step - loss: 1.0982e-04 - accuracy: 1.0000 - val_loss: 0.0074 - val_accuracy: 1.0000\n",
            "Epoch 29/30\n",
            "35/35 [==============================] - ETA: 0s - loss: 1.1922e-04 - accuracy: 1.0000"
          ]
        },
        {
          "output_type": "stream",
          "name": "stderr",
          "text": [
            "WARNING:absl:Found untraced functions such as _jit_compiled_convolution_op, _jit_compiled_convolution_op, _jit_compiled_convolution_op, _jit_compiled_convolution_op, _jit_compiled_convolution_op while saving (showing 5 of 6). These functions will not be directly callable after loading.\n"
          ]
        },
        {
          "output_type": "stream",
          "name": "stdout",
          "text": [
            "\b\b\b\b\b\b\b\b\b\b\b\b\b\b\b\b\b\b\b\b\b\b\b\b\b\b\b\b\b\b\b\b\b\b\b\b\b\b\b\b\b\b\b\b\b\b\b\b\b\b\b\b\b\b\b\b\b\b\b\b\b\b\b\b\b\b\b\b\b\b\b\b\b\b\b\b\b\b\b\b\b\b\b\b\b\b\r35/35 [==============================] - 10s 279ms/step - loss: 1.1922e-04 - accuracy: 1.0000 - val_loss: 0.0126 - val_accuracy: 1.0000\n",
            "Epoch 30/30\n",
            "35/35 [==============================] - ETA: 0s - loss: 4.2515e-05 - accuracy: 1.0000"
          ]
        },
        {
          "output_type": "stream",
          "name": "stderr",
          "text": [
            "WARNING:absl:Found untraced functions such as _jit_compiled_convolution_op, _jit_compiled_convolution_op, _jit_compiled_convolution_op, _jit_compiled_convolution_op, _jit_compiled_convolution_op while saving (showing 5 of 6). These functions will not be directly callable after loading.\n"
          ]
        },
        {
          "output_type": "stream",
          "name": "stdout",
          "text": [
            "\b\b\b\b\b\b\b\b\b\b\b\b\b\b\b\b\b\b\b\b\b\b\b\b\b\b\b\b\b\b\b\b\b\b\b\b\b\b\b\b\b\b\b\b\b\b\b\b\b\b\b\b\b\b\b\b\b\b\b\b\b\b\b\b\b\b\b\b\b\b\b\b\b\b\b\b\b\b\b\b\b\b\b\b\b\b\r35/35 [==============================] - 10s 299ms/step - loss: 4.2515e-05 - accuracy: 1.0000 - val_loss: 0.0118 - val_accuracy: 1.0000\n",
            "Elapsed time: 0:5:26.3\n"
          ]
        }
      ]
    },
    {
      "cell_type": "code",
      "source": [
        "history = model.history.history"
      ],
      "metadata": {
        "id": "aA_VD1dWPzBP"
      },
      "execution_count": 27,
      "outputs": []
    },
    {
      "cell_type": "code",
      "source": [
        "for key in history.keys():\n",
        "    print(key)"
      ],
      "metadata": {
        "id": "bEGpfpIRQ98L",
        "colab": {
          "base_uri": "https://localhost:8080/"
        },
        "outputId": "c70c5cdf-f918-4cba-d493-c8db8fee4473"
      },
      "execution_count": 28,
      "outputs": [
        {
          "output_type": "stream",
          "name": "stdout",
          "text": [
            "loss\n",
            "accuracy\n",
            "val_loss\n",
            "val_accuracy\n"
          ]
        }
      ]
    },
    {
      "cell_type": "code",
      "source": [
        "def plot_metrics(history):\n",
        "    \n",
        "    train_loss = history['loss']\n",
        "    val_loss = history['val_loss']\n",
        "    train_acc = history['accuracy']\n",
        "    val_acc = history['val_accuracy']\n",
        "    \n",
        "    # Loss\n",
        "    plt.figure()\n",
        "    plt.plot(train_loss, label='Training Loss')\n",
        "    plt.plot(val_loss, label='Validation Loss')\n",
        "    plt.title('Loss')\n",
        "    plt.legend()\n",
        "    plt.show()\n",
        "    \n",
        "    # Accuracy\n",
        "    plt.figure()\n",
        "    plt.plot(train_acc, label='Training Accuracy')\n",
        "    plt.plot(val_acc, label='Validation Accuracy')\n",
        "    plt.title('Accuracy')\n",
        "    plt.legend()\n",
        "    plt.show()"
      ],
      "metadata": {
        "id": "_OPrzPeHRHX9"
      },
      "execution_count": 29,
      "outputs": []
    },
    {
      "cell_type": "code",
      "source": [
        "plot_metrics(history)"
      ],
      "metadata": {
        "colab": {
          "base_uri": "https://localhost:8080/",
          "height": 887
        },
        "id": "-Tu3CbbvRIqp",
        "outputId": "b43fb90b-dbcc-402a-d163-559cc4c24560"
      },
      "execution_count": 30,
      "outputs": [
        {
          "output_type": "display_data",
          "data": {
            "text/plain": [
              "<Figure size 640x480 with 1 Axes>"
            ],
            "image/png": "[encoded data removed]"
          },
          "metadata": {}
        },
        {
          "output_type": "display_data",
          "data": {
            "text/plain": [
              "<Figure size 640x480 with 1 Axes>"
            ],
            "image/png": "[encoded data removed]"
          },
          "metadata": {}
        }
      ]
    },
    {
      "cell_type": "code",
      "source": [
        "loss, acc = model.evaluate(x=X_test, y=y_test)"
      ],
      "metadata": {
        "colab": {
          "base_uri": "https://localhost:8080/"
        },
        "id": "s1CMDNaLRpPb",
        "outputId": "8ea0e1a8-e6e3-425c-c544-33ffb2989b01"
      },
      "execution_count": null,
      "outputs": [
        {
          "output_type": "stream",
          "name": "stdout",
          "text": [
            "9/9 [==============================] - 1s 76ms/step - loss: 0.0675 - accuracy: 0.9745\n"
          ]
        }
      ]
    },
    {
      "cell_type": "code",
      "source": [
        "print (\"Test Loss = {}\".format(loss))\n",
        "print (\"Test Accuracy = {}\".format(acc))"
      ],
      "metadata": {
        "colab": {
          "base_uri": "https://localhost:8080/"
        },
        "id": "gIJAQe0nRv45",
        "outputId": "829119a0-e2ac-41fa-f2f2-78e5f188e9eb"
      },
      "execution_count": null,
      "outputs": [
        {
          "output_type": "stream",
          "name": "stdout",
          "text": [
            "Test Loss = 0.06754948943853378\n",
            "Test Accuracy = 0.974452555179596\n"
          ]
        }
      ]
    },
    {
      "cell_type": "code",
      "source": [
        "y_test_prob = model.predict(X_test)"
      ],
      "metadata": {
        "colab": {
          "base_uri": "https://localhost:8080/"
        },
        "id": "5L0w_1YNR2LV",
        "outputId": "3e9281a2-59eb-4ff5-a11a-061c1344794d"
      },
      "execution_count": null,
      "outputs": [
        {
          "output_type": "stream",
          "name": "stdout",
          "text": [
            "9/9 [==============================] - 0s 29ms/step\n"
          ]
        }
      ]
    },
    {
      "cell_type": "code",
      "source": [
        "f1score = compute_f1_score(y_test, y_test_prob)\n",
        "print(f1score)"
      ],
      "metadata": {
        "colab": {
          "base_uri": "https://localhost:8080/"
        },
        "id": "HXsYUG-KR8XP",
        "outputId": "aa0e3adc-34b2-423d-e0a5-c7ff319529c5"
      },
      "execution_count": null,
      "outputs": [
        {
          "output_type": "stream",
          "name": "stdout",
          "text": [
            "0.9729729729729729\n"
          ]
        }
      ]
    },
    {
      "cell_type": "code",
      "source": [
        "y_val_prob = model.predict(X_val)"
      ],
      "metadata": {
        "colab": {
          "base_uri": "https://localhost:8080/"
        },
        "id": "xU3Mu06aSLlr",
        "outputId": "f0843ee0-fd3e-4852-971f-8efc3c496710"
      },
      "execution_count": null,
      "outputs": [
        {
          "output_type": "stream",
          "name": "stdout",
          "text": [
            "3/3 [==============================] - 0s 29ms/step\n"
          ]
        }
      ]
    },
    {
      "cell_type": "code",
      "source": [
        "f1score_val = compute_f1_score(y_val, y_val_prob)"
      ],
      "metadata": {
        "id": "KkppAFEgSibf"
      },
      "execution_count": null,
      "outputs": []
    },
    {
      "cell_type": "code",
      "source": [
        "def data_percentage(y):\n",
        "\n",
        "    m=len(y)\n",
        "    n_positive = np.sum(y)\n",
        "    n_negative = m - n_positive\n",
        "\n",
        "    pos_prec = (n_positive* 100.0)/ m\n",
        "    neg_prec = (n_negative* 100.0)/ m\n",
        "\n",
        "    print(\"Number of examples:{}\".format(m))\n",
        "    print(\"Percentage of positive examples: {}%, number of pos examples: {}\".format(pos_prec,n_positive))\n",
        "    print(\"Percentage of negative examples: {}%, number of neg examples: {}\".format(neg_prec,n_negative))"
      ],
      "metadata": {
        "id": "aC8UPJ2LSnKh"
      },
      "execution_count": null,
      "outputs": []
    },
    {
      "cell_type": "code",
      "source": [
        "data_percentage(y)"
      ],
      "metadata": {
        "colab": {
          "base_uri": "https://localhost:8080/"
        },
        "id": "UM0sO5xeSqEM",
        "outputId": "cbf375ad-9463-4b36-c24f-6b1f781d3cd3"
      },
      "execution_count": null,
      "outputs": [
        {
          "output_type": "stream",
          "name": "stdout",
          "text": [
            "Number of examples:1464\n",
            "Percentage of positive examples: 50.0%, number of pos examples: 732\n",
            "Percentage of negative examples: 50.0%, number of neg examples: 732\n"
          ]
        }
      ]
    },
    {
      "cell_type": "code",
      "source": [
        "print(\"Training Data:\")\n",
        "data_percentage(y_train)\n",
        "print(\"Validation Data:\")\n",
        "data_percentage(y_val)\n",
        "print(\"Testing Data:\")\n",
        "data_percentage(y_test)"
      ],
      "metadata": {
        "colab": {
          "base_uri": "https://localhost:8080/"
        },
        "id": "S6nBQMDnS0Hc",
        "outputId": "950c9252-d37a-45fb-c563-6c0b45623230"
      },
      "execution_count": null,
      "outputs": [
        {
          "output_type": "stream",
          "name": "stdout",
          "text": [
            "Training Data:\n",
            "Number of examples:1098\n",
            "Percentage of positive examples: 51.09289617486339%, number of pos examples: 561\n",
            "Percentage of negative examples: 48.90710382513661%, number of neg examples: 537\n",
            "Validation Data:\n",
            "Number of examples:92\n",
            "Percentage of positive examples: 47.82608695652174%, number of pos examples: 44\n",
            "Percentage of negative examples: 52.17391304347826%, number of neg examples: 48\n",
            "Testing Data:\n",
            "Number of examples:274\n",
            "Percentage of positive examples: 46.35036496350365%, number of pos examples: 127\n",
            "Percentage of negative examples: 53.64963503649635%, number of neg examples: 147\n"
          ]
        }
      ]
    },
    {
      "cell_type": "code",
      "source": [
        "from PIL import Image\n",
        "model_path = \"/content/Brain_Tumor_Detection_Models/cnn-parameters-improvement-20-0.98.model\"\n",
        "loaded_model = tf.keras.models.load_model(model_path)\n",
        "\n",
        "import matplotlib.pyplot as plt\n",
        "import numpy as np\n",
        "\n",
        "image = cv2.imread(\"/content/drive/MyDrive/Brain_dataset/pred/pred36.jpg\")\n",
        "\n",
        "image_fromarray = Image.fromarray(image, 'RGB')\n",
        "resize_image = image_fromarray.resize((256, 256))\n",
        "expand_input = np.expand_dims(resize_image,axis=0)\n",
        "input_data = np.array(expand_input)\n",
        "input_data = input_data/256\n",
        "\n",
        "pred = loaded_model.predict(input_data)\n",
        "if pred >= 0.5:\n",
        "  print('yes')\n",
        "else:\n",
        "  print('no')\n",
        "\n",
        "# result = pred.argmax()\n",
        "# result"
      ],
      "metadata": {
        "colab": {
          "base_uri": "https://localhost:8080/"
        },
        "id": "3rMKNj2VAJoP",
        "outputId": "b0365cf4-43cc-4662-ad11-1da862e76b23"
      },
      "execution_count": null,
      "outputs": [
        {
          "output_type": "stream",
          "name": "stdout",
          "text": [
            "1/1 [==============================] - 0s 185ms/step\n",
            "no\n"
          ]
        }
      ]
    },
    {
      "cell_type": "code",
      "source": [],
      "metadata": {
        "id": "s0fJS7BtfW83"
      },
      "execution_count": null,
      "outputs": []
    }
  ]
}